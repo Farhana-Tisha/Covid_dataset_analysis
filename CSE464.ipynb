{
  "cells": [
    {
      "cell_type": "markdown",
      "source": [
        "IMPORT LYBRARY"
      ],
      "metadata": {
        "id": "52XruJAP901m"
      }
    },
    {
      "cell_type": "code",
      "source": [
        "pip install --upgrade --no-deps statsmodels"
      ],
      "metadata": {
        "colab": {
          "base_uri": "https://localhost:8080/"
        },
        "id": "kueloy_1RAgR",
        "outputId": "8c539b0f-bebc-4c99-bf1b-ba9a6c61eed9"
      },
      "execution_count": null,
      "outputs": [
        {
          "output_type": "stream",
          "name": "stdout",
          "text": [
            "Requirement already satisfied: statsmodels in /usr/local/lib/python3.7/dist-packages (0.13.1)\n"
          ]
        }
      ]
    },
    {
      "cell_type": "code",
      "execution_count": null,
      "metadata": {
        "id": "AtedY9EWRRCa"
      },
      "outputs": [],
      "source": [
        "from statsmodels.graphics.tsaplots import plot_acf, plot_pacf, plot_predict\n",
        "from sklearn.model_selection import train_test_split\n",
        "from sklearn.linear_model import LinearRegression\n",
        "from sklearn.metrics import classification_report\n",
        "from sklearn.neural_network import MLPClassifier\n",
        "from statsmodels.tsa.arima.model import ARIMA\n",
        "from sklearn.naive_bayes import GaussianNB\n",
        "from sklearn.metrics import accuracy_score\n",
        "\n",
        "import matplotlib.pyplot as plt\n",
        "import pandas as pd\n",
        "import numpy as np\n",
        "import math"
      ]
    },
    {
      "cell_type": "markdown",
      "source": [
        "**IMPORT REGRESSION DATASET**\n",
        "\n",
        "\n",
        "\n",
        "\n",
        "\n",
        "\n",
        "\n",
        "\n"
      ],
      "metadata": {
        "id": "U_sbKk959shr"
      }
    },
    {
      "cell_type": "code",
      "execution_count": null,
      "metadata": {
        "colab": {
          "base_uri": "https://localhost:8080/",
          "height": 424
        },
        "id": "3iAm5iKkRRCk",
        "outputId": "bcd24ea0-5dc6-4141-ee72-e54d7532ef66"
      },
      "outputs": [
        {
          "output_type": "execute_result",
          "data": {
            "text/html": [
              "\n",
              "  <div id=\"df-5b48e96b-054f-4c37-b3e4-1433d84e0ea6\">\n",
              "    <div class=\"colab-df-container\">\n",
              "      <div>\n",
              "<style scoped>\n",
              "    .dataframe tbody tr th:only-of-type {\n",
              "        vertical-align: middle;\n",
              "    }\n",
              "\n",
              "    .dataframe tbody tr th {\n",
              "        vertical-align: top;\n",
              "    }\n",
              "\n",
              "    .dataframe thead th {\n",
              "        text-align: right;\n",
              "    }\n",
              "</style>\n",
              "<table border=\"1\" class=\"dataframe\">\n",
              "  <thead>\n",
              "    <tr style=\"text-align: right;\">\n",
              "      <th></th>\n",
              "      <th>LAB_TEST</th>\n",
              "      <th>CONFIRMED</th>\n",
              "      <th>FIRST_DOSE_SUM</th>\n",
              "      <th>SECOND_DOSE_SUM</th>\n",
              "      <th>DEATH</th>\n",
              "    </tr>\n",
              "  </thead>\n",
              "  <tbody>\n",
              "    <tr>\n",
              "      <th>0</th>\n",
              "      <td>434</td>\n",
              "      <td>9</td>\n",
              "      <td>0</td>\n",
              "      <td>0</td>\n",
              "      <td>2</td>\n",
              "    </tr>\n",
              "    <tr>\n",
              "      <th>1</th>\n",
              "      <td>367</td>\n",
              "      <td>18</td>\n",
              "      <td>0</td>\n",
              "      <td>0</td>\n",
              "      <td>1</td>\n",
              "    </tr>\n",
              "    <tr>\n",
              "      <th>2</th>\n",
              "      <td>468</td>\n",
              "      <td>35</td>\n",
              "      <td>0</td>\n",
              "      <td>0</td>\n",
              "      <td>3</td>\n",
              "    </tr>\n",
              "    <tr>\n",
              "      <th>3</th>\n",
              "      <td>679</td>\n",
              "      <td>41</td>\n",
              "      <td>0</td>\n",
              "      <td>0</td>\n",
              "      <td>5</td>\n",
              "    </tr>\n",
              "    <tr>\n",
              "      <th>4</th>\n",
              "      <td>981</td>\n",
              "      <td>54</td>\n",
              "      <td>0</td>\n",
              "      <td>0</td>\n",
              "      <td>3</td>\n",
              "    </tr>\n",
              "    <tr>\n",
              "      <th>...</th>\n",
              "      <td>...</td>\n",
              "      <td>...</td>\n",
              "      <td>...</td>\n",
              "      <td>...</td>\n",
              "      <td>...</td>\n",
              "    </tr>\n",
              "    <tr>\n",
              "      <th>395</th>\n",
              "      <td>21984</td>\n",
              "      <td>1914</td>\n",
              "      <td>5819757</td>\n",
              "      <td>3106709</td>\n",
              "      <td>61</td>\n",
              "    </tr>\n",
              "    <tr>\n",
              "      <th>396</th>\n",
              "      <td>20284</td>\n",
              "      <td>1742</td>\n",
              "      <td>5819811</td>\n",
              "      <td>3210509</td>\n",
              "      <td>50</td>\n",
              "    </tr>\n",
              "    <tr>\n",
              "      <th>397</th>\n",
              "      <td>21585</td>\n",
              "      <td>1822</td>\n",
              "      <td>5819854</td>\n",
              "      <td>3313424</td>\n",
              "      <td>41</td>\n",
              "    </tr>\n",
              "    <tr>\n",
              "      <th>398</th>\n",
              "      <td>17013</td>\n",
              "      <td>1682</td>\n",
              "      <td>5819854</td>\n",
              "      <td>3313424</td>\n",
              "      <td>37</td>\n",
              "    </tr>\n",
              "    <tr>\n",
              "      <th>399</th>\n",
              "      <td>14703</td>\n",
              "      <td>1285</td>\n",
              "      <td>5819856</td>\n",
              "      <td>3401531</td>\n",
              "      <td>45</td>\n",
              "    </tr>\n",
              "  </tbody>\n",
              "</table>\n",
              "<p>400 rows × 5 columns</p>\n",
              "</div>\n",
              "      <button class=\"colab-df-convert\" onclick=\"convertToInteractive('df-5b48e96b-054f-4c37-b3e4-1433d84e0ea6')\"\n",
              "              title=\"Convert this dataframe to an interactive table.\"\n",
              "              style=\"display:none;\">\n",
              "        \n",
              "  <svg xmlns=\"http://www.w3.org/2000/svg\" height=\"24px\"viewBox=\"0 0 24 24\"\n",
              "       width=\"24px\">\n",
              "    <path d=\"M0 0h24v24H0V0z\" fill=\"none\"/>\n",
              "    <path d=\"M18.56 5.44l.94 2.06.94-2.06 2.06-.94-2.06-.94-.94-2.06-.94 2.06-2.06.94zm-11 1L8.5 8.5l.94-2.06 2.06-.94-2.06-.94L8.5 2.5l-.94 2.06-2.06.94zm10 10l.94 2.06.94-2.06 2.06-.94-2.06-.94-.94-2.06-.94 2.06-2.06.94z\"/><path d=\"M17.41 7.96l-1.37-1.37c-.4-.4-.92-.59-1.43-.59-.52 0-1.04.2-1.43.59L10.3 9.45l-7.72 7.72c-.78.78-.78 2.05 0 2.83L4 21.41c.39.39.9.59 1.41.59.51 0 1.02-.2 1.41-.59l7.78-7.78 2.81-2.81c.8-.78.8-2.07 0-2.86zM5.41 20L4 18.59l7.72-7.72 1.47 1.35L5.41 20z\"/>\n",
              "  </svg>\n",
              "      </button>\n",
              "      \n",
              "  <style>\n",
              "    .colab-df-container {\n",
              "      display:flex;\n",
              "      flex-wrap:wrap;\n",
              "      gap: 12px;\n",
              "    }\n",
              "\n",
              "    .colab-df-convert {\n",
              "      background-color: #E8F0FE;\n",
              "      border: none;\n",
              "      border-radius: 50%;\n",
              "      cursor: pointer;\n",
              "      display: none;\n",
              "      fill: #1967D2;\n",
              "      height: 32px;\n",
              "      padding: 0 0 0 0;\n",
              "      width: 32px;\n",
              "    }\n",
              "\n",
              "    .colab-df-convert:hover {\n",
              "      background-color: #E2EBFA;\n",
              "      box-shadow: 0px 1px 2px rgba(60, 64, 67, 0.3), 0px 1px 3px 1px rgba(60, 64, 67, 0.15);\n",
              "      fill: #174EA6;\n",
              "    }\n",
              "\n",
              "    [theme=dark] .colab-df-convert {\n",
              "      background-color: #3B4455;\n",
              "      fill: #D2E3FC;\n",
              "    }\n",
              "\n",
              "    [theme=dark] .colab-df-convert:hover {\n",
              "      background-color: #434B5C;\n",
              "      box-shadow: 0px 1px 3px 1px rgba(0, 0, 0, 0.15);\n",
              "      filter: drop-shadow(0px 1px 2px rgba(0, 0, 0, 0.3));\n",
              "      fill: #FFFFFF;\n",
              "    }\n",
              "  </style>\n",
              "\n",
              "      <script>\n",
              "        const buttonEl =\n",
              "          document.querySelector('#df-5b48e96b-054f-4c37-b3e4-1433d84e0ea6 button.colab-df-convert');\n",
              "        buttonEl.style.display =\n",
              "          google.colab.kernel.accessAllowed ? 'block' : 'none';\n",
              "\n",
              "        async function convertToInteractive(key) {\n",
              "          const element = document.querySelector('#df-5b48e96b-054f-4c37-b3e4-1433d84e0ea6');\n",
              "          const dataTable =\n",
              "            await google.colab.kernel.invokeFunction('convertToInteractive',\n",
              "                                                     [key], {});\n",
              "          if (!dataTable) return;\n",
              "\n",
              "          const docLinkHtml = 'Like what you see? Visit the ' +\n",
              "            '<a target=\"_blank\" href=https://colab.research.google.com/notebooks/data_table.ipynb>data table notebook</a>'\n",
              "            + ' to learn more about interactive tables.';\n",
              "          element.innerHTML = '';\n",
              "          dataTable['output_type'] = 'display_data';\n",
              "          await google.colab.output.renderOutput(dataTable, element);\n",
              "          const docLink = document.createElement('div');\n",
              "          docLink.innerHTML = docLinkHtml;\n",
              "          element.appendChild(docLink);\n",
              "        }\n",
              "      </script>\n",
              "    </div>\n",
              "  </div>\n",
              "  "
            ],
            "text/plain": [
              "     LAB_TEST  CONFIRMED  FIRST_DOSE_SUM  SECOND_DOSE_SUM  DEATH\n",
              "0         434          9               0                0      2\n",
              "1         367         18               0                0      1\n",
              "2         468         35               0                0      3\n",
              "3         679         41               0                0      5\n",
              "4         981         54               0                0      3\n",
              "..        ...        ...             ...              ...    ...\n",
              "395     21984       1914         5819757          3106709     61\n",
              "396     20284       1742         5819811          3210509     50\n",
              "397     21585       1822         5819854          3313424     41\n",
              "398     17013       1682         5819854          3313424     37\n",
              "399     14703       1285         5819856          3401531     45\n",
              "\n",
              "[400 rows x 5 columns]"
            ]
          },
          "metadata": {},
          "execution_count": 64
        }
      ],
      "source": [
        "df=pd.read_csv(\"/content/regression_dataset.csv\")\n",
        "df.head(400)"
      ]
    },
    {
      "cell_type": "code",
      "execution_count": null,
      "metadata": {
        "id": "TJ4XM9uTRRCo"
      },
      "outputs": [],
      "source": [
        "x=df.iloc[:, 0:-1].values\n",
        "y=df.iloc[:, 4].values"
      ]
    },
    {
      "cell_type": "markdown",
      "source": [
        "**SPLIT DATASET 60% TRAIN 40% TEST**"
      ],
      "metadata": {
        "id": "gOMSz6Jt-Kdp"
      }
    },
    {
      "cell_type": "code",
      "execution_count": null,
      "metadata": {
        "id": "l1Im46pERRCp"
      },
      "outputs": [],
      "source": [
        "x_train, x_test, y_train, y_test=train_test_split(x, y, test_size=0.40)"
      ]
    },
    {
      "cell_type": "code",
      "execution_count": null,
      "metadata": {
        "id": "hugK33HcRRCr"
      },
      "outputs": [],
      "source": [
        "#x_train\n",
        "#x_test\n",
        "#y_train\n",
        "#y_test"
      ]
    },
    {
      "cell_type": "markdown",
      "source": [
        "**FIT REGRESSION MODEL**"
      ],
      "metadata": {
        "id": "zm9zdBnf-eOg"
      }
    },
    {
      "cell_type": "code",
      "execution_count": null,
      "metadata": {
        "colab": {
          "base_uri": "https://localhost:8080/"
        },
        "id": "Ji0Rgg__RRCw",
        "outputId": "9148f513-e62d-48d2-ccfa-1382d411617e"
      },
      "outputs": [
        {
          "output_type": "execute_result",
          "data": {
            "text/plain": [
              "LinearRegression()"
            ]
          },
          "metadata": {},
          "execution_count": 68
        }
      ],
      "source": [
        "reg=LinearRegression()\n",
        "reg.fit(x_train, y_train)"
      ]
    },
    {
      "cell_type": "code",
      "execution_count": null,
      "metadata": {
        "colab": {
          "base_uri": "https://localhost:8080/"
        },
        "id": "KcQ3ZqHMRRCx",
        "outputId": "c644260f-09e0-40e6-d104-896f8a8c53e9"
      },
      "outputs": [
        {
          "output_type": "execute_result",
          "data": {
            "text/plain": [
              "array([ 22.86108229,  30.35391173, 120.90345654,  12.60652836,\n",
              "       199.31288425,  27.09828422,  30.39517556,   7.67180565,\n",
              "       209.28124869,  28.58775473, 124.26575072,  66.68575211,\n",
              "        52.02725352,  58.08682645,  45.41155415,  34.43245525,\n",
              "        19.37164451,  34.80401242,  68.16473187,  95.47667384,\n",
              "        13.57178313, 192.72196249,  57.35488428,  43.57855744,\n",
              "        68.02330037,  33.00526257,  -4.05746174,  12.63529826,\n",
              "        13.52573734,  67.50368871,   4.94338249,  11.04948215,\n",
              "        27.19988726, 264.43267252,  89.33078994,  34.7283685 ,\n",
              "        42.9579267 ,  16.61390424, 104.56899127,   7.94972704,\n",
              "        36.31058792,  26.75898636,   9.30870122,   2.85542524,\n",
              "         7.07627624,  28.06275871,   9.60182979,  36.70584269,\n",
              "        21.25071449,   9.12382391,  31.96461236, 198.80656441,\n",
              "        26.16229809, 121.28429221,  18.57557984, 129.1286548 ,\n",
              "        20.96625042,  22.84745966,  83.86312827,  23.32677586,\n",
              "         9.53888629,  24.62131735,  67.74667524,   1.05062572,\n",
              "        53.53136859,   5.72567571,  22.68349224,  13.36933397,\n",
              "        56.50476105,  33.44271852,  38.89758114,  73.59386129,\n",
              "        29.3549746 ,  26.193814  ,  48.23659982,  10.74116271,\n",
              "       222.4118576 ,  23.29535098,   6.81819386,  11.95312506,\n",
              "        24.14604647,  36.46546358,  25.82397325,  26.53035294,\n",
              "       106.96426079,  -4.37681741,  50.11660889, 212.67237646,\n",
              "        27.49742052,  36.86558455,   8.7246578 ,  59.72809055,\n",
              "        26.82228784,  24.63550585,  49.17277918,  10.0758113 ,\n",
              "         8.18872738,   5.82572927,  42.5076992 ,  21.24371815,\n",
              "       274.46366075,  23.41704489,   3.40772811,  26.27323283,\n",
              "        18.18638849,  21.1733334 ,  20.5323774 ,  52.73567387,\n",
              "        15.4537138 ,  15.09411557,   9.30617047,  35.26491346,\n",
              "        54.62948204,  62.6803257 ,   9.64014089,  31.34676225,\n",
              "        26.49943221, 100.05444456,  61.14002065,  28.70977128,\n",
              "         8.33890229,  19.9713313 ,  21.72166035,   5.7627853 ,\n",
              "        41.40979523, 182.76741293,  23.61112532,  45.05956661,\n",
              "        16.27533463,  10.21675968,  74.31116291,  10.28196585,\n",
              "         5.16990556,  18.64426973,  45.39153255, 208.76444149,\n",
              "        22.47954851,   1.11053846, 181.65147447,  20.22864443,\n",
              "        29.7374679 ,  38.81818942,  10.13105775,  32.16906683,\n",
              "        53.17992127, 280.3658068 ,   5.87256826,  47.61309728,\n",
              "        31.1142924 ,  24.01415654,  39.85946596,  32.36231031,\n",
              "         1.0835173 ,  41.23652529,   4.49335927,   9.60531156,\n",
              "        28.78592499,  28.7153426 ,  30.20572532,  61.21392617,\n",
              "        29.32264983,  16.87068796,   5.66218702,  24.66583555,\n",
              "         8.13564825,  42.63656177,  30.6571013 ,  31.89133726,\n",
              "        11.84912821,   7.9984597 , 128.63652039,   8.76427352,\n",
              "        32.7605943 ,  34.63892676,  44.31816061,  34.63586245,\n",
              "        42.52570714, 203.17866235,  16.73268554,  38.07612795,\n",
              "         7.91460004,  20.25231619,  23.03028441,  10.42400313,\n",
              "       276.85754687,  54.43773259,  28.90212527,  10.44139215,\n",
              "        25.21185491,  43.60012984,  24.76431169,  32.76757787,\n",
              "        49.97365434, 106.56024385,  38.44622009,  25.62783186,\n",
              "        90.97106361,  20.00158948,  41.18238654,  22.83365582,\n",
              "        12.22138519,  10.19607688,   3.50276826,  15.29369808,\n",
              "        36.8530997 , 109.30431322, 113.43267422,  48.65470192,\n",
              "        64.97105887,   5.9857017 ,  46.69184861,  15.87875426,\n",
              "        11.05590678,  60.21705031,  21.85099468,  17.66563431,\n",
              "         9.47665481,  25.43830151,  24.56064465,  28.26982214,\n",
              "        37.74359866,  31.55847855,   6.72617588,  10.29226477,\n",
              "        37.07793836,  10.72597966,  25.99999847, 125.63142645,\n",
              "         7.26702881,  47.65649711,   8.34132977,  64.90569896,\n",
              "        45.97964086,  53.65869462,  89.97022791, 198.06229171,\n",
              "        45.50626314,  42.40506737,  63.57372622,  32.65529168,\n",
              "        73.28204933,  67.69258584,   4.28895149,  37.84428824,\n",
              "        41.53915346,  51.81818559,   7.75672469,  10.03513538,\n",
              "        19.54895361,  64.54905112,  55.91617554])"
            ]
          },
          "metadata": {},
          "execution_count": 69
        }
      ],
      "source": [
        "reg.predict(x_test)"
      ]
    },
    {
      "cell_type": "code",
      "execution_count": null,
      "metadata": {
        "colab": {
          "base_uri": "https://localhost:8080/"
        },
        "id": "dyZF7cVXRRCy",
        "outputId": "8b2f6852-75a2-4b59-ac7e-10e8363e59a3"
      },
      "outputs": [
        {
          "output_type": "execute_result",
          "data": {
            "text/plain": [
              "85.97154523231194"
            ]
          },
          "metadata": {},
          "execution_count": 70
        }
      ],
      "source": [
        "reg.score(x_test, y_test)*100"
      ]
    },
    {
      "cell_type": "code",
      "source": [
        "#example_measures = np.array([[a,b,c,d]]) \n",
        "example_measures = np.array([[28153,100,68001893,44743382]]) \n",
        "example_measures = example_measures.reshape(len(example_measures),-1)\n",
        "\n",
        "prediction = reg.predict(example_measures)\n",
        "prediction= math.ceil(prediction)\n",
        "example_measures = np.array([[28153,100,0,0]]) \n",
        "example_measures = example_measures.reshape(len(example_measures),-1)\n",
        "\n",
        "prediction_vacc = reg.predict(example_measures)\n",
        "prediction_vacc= math.ceil(prediction_vacc)\n",
        "if prediction > 0:\n",
        "  print(\"DEATH REDUCE : \", (prediction_vacc-prediction)*100/prediction_vacc, \"%\")\n",
        "else:\n",
        "  print(\"DEATH REDUCE :  0\")"
      ],
      "metadata": {
        "colab": {
          "base_uri": "https://localhost:8080/"
        },
        "id": "adtf-MmYk5sZ",
        "outputId": "36e0be5d-8fcf-45f3-ac95-dfa638321279"
      },
      "execution_count": null,
      "outputs": [
        {
          "output_type": "stream",
          "name": "stdout",
          "text": [
            "DEATH REDUCE :  18.181818181818183 %\n"
          ]
        }
      ]
    },
    {
      "cell_type": "code",
      "source": [
        "yp = reg.predict(x)\n",
        "plt.rcParams[\"figure.figsize\"] = (10,6) \n",
        "plt.plot( yp , color='green', marker='o', linestyle='',\n",
        "     linewidth=0, markersize=5)\n",
        "plt.plot( y, color='blue', marker='o', linestyle='',\n",
        "     linewidth=0, markersize=5)\n",
        "plt.xlabel('FEATURE')\n",
        "plt.ylabel('DEATH')\n",
        "plt.title('Regression')\n",
        "plt.legend([\"PREDECTED DEATH\", \"ACTUAL DEATH\"]) \n",
        "plt.savefig('/content/linear.png', dpi=300, bbox_inches='tight')\n",
        "plt.show()"
      ],
      "metadata": {
        "colab": {
          "base_uri": "https://localhost:8080/",
          "height": 404
        },
        "id": "RtPPR_99RJmH",
        "outputId": "7ab62366-f76b-4a0b-939e-c881be638a7a"
      },
      "execution_count": null,
      "outputs": [
        {
          "output_type": "display_data",
          "data": {
            "image/png": "[encoded data removed]",
            "text/plain": [
              "<Figure size 720x432 with 1 Axes>"
            ]
          },
          "metadata": {
            "needs_background": "light"
          }
        }
      ]
    },
    {
      "cell_type": "markdown",
      "source": [
        "IMPORT CLASSIFICATION DATASET"
      ],
      "metadata": {
        "id": "NlHHz5OF-lIe"
      }
    },
    {
      "cell_type": "code",
      "source": [
        "df=pd.read_csv(\"/content/classification_dataset.csv\")\n",
        "df.head(400)"
      ],
      "metadata": {
        "colab": {
          "base_uri": "https://localhost:8080/",
          "height": 424
        },
        "id": "r6vLxY6lrjdD",
        "outputId": "62f6c457-f1c7-4a84-c9c2-66642b4f5d5f"
      },
      "execution_count": null,
      "outputs": [
        {
          "output_type": "execute_result",
          "data": {
            "text/html": [
              "\n",
              "  <div id=\"df-6042debe-3005-4085-bd56-4f9299c53409\">\n",
              "    <div class=\"colab-df-container\">\n",
              "      <div>\n",
              "<style scoped>\n",
              "    .dataframe tbody tr th:only-of-type {\n",
              "        vertical-align: middle;\n",
              "    }\n",
              "\n",
              "    .dataframe tbody tr th {\n",
              "        vertical-align: top;\n",
              "    }\n",
              "\n",
              "    .dataframe thead th {\n",
              "        text-align: right;\n",
              "    }\n",
              "</style>\n",
              "<table border=\"1\" class=\"dataframe\">\n",
              "  <thead>\n",
              "    <tr style=\"text-align: right;\">\n",
              "      <th></th>\n",
              "      <th>LAB_TEST</th>\n",
              "      <th>CONFIRMED</th>\n",
              "      <th>DEATH</th>\n",
              "      <th>DENGER_LEVEL</th>\n",
              "    </tr>\n",
              "  </thead>\n",
              "  <tbody>\n",
              "    <tr>\n",
              "      <th>0</th>\n",
              "      <td>434</td>\n",
              "      <td>9</td>\n",
              "      <td>2</td>\n",
              "      <td>LOW_RISK</td>\n",
              "    </tr>\n",
              "    <tr>\n",
              "      <th>1</th>\n",
              "      <td>367</td>\n",
              "      <td>18</td>\n",
              "      <td>1</td>\n",
              "      <td>LOW_RISK</td>\n",
              "    </tr>\n",
              "    <tr>\n",
              "      <th>2</th>\n",
              "      <td>468</td>\n",
              "      <td>35</td>\n",
              "      <td>3</td>\n",
              "      <td>LOW_RISK</td>\n",
              "    </tr>\n",
              "    <tr>\n",
              "      <th>3</th>\n",
              "      <td>679</td>\n",
              "      <td>41</td>\n",
              "      <td>5</td>\n",
              "      <td>LOW_RISK</td>\n",
              "    </tr>\n",
              "    <tr>\n",
              "      <th>4</th>\n",
              "      <td>981</td>\n",
              "      <td>54</td>\n",
              "      <td>3</td>\n",
              "      <td>LOW_RISK</td>\n",
              "    </tr>\n",
              "    <tr>\n",
              "      <th>...</th>\n",
              "      <td>...</td>\n",
              "      <td>...</td>\n",
              "      <td>...</td>\n",
              "      <td>...</td>\n",
              "    </tr>\n",
              "    <tr>\n",
              "      <th>395</th>\n",
              "      <td>21984</td>\n",
              "      <td>1914</td>\n",
              "      <td>61</td>\n",
              "      <td>SIGNIFICANT_RISK</td>\n",
              "    </tr>\n",
              "    <tr>\n",
              "      <th>396</th>\n",
              "      <td>20284</td>\n",
              "      <td>1742</td>\n",
              "      <td>50</td>\n",
              "      <td>SIGNIFICANT_RISK</td>\n",
              "    </tr>\n",
              "    <tr>\n",
              "      <th>397</th>\n",
              "      <td>21585</td>\n",
              "      <td>1822</td>\n",
              "      <td>41</td>\n",
              "      <td>SIGNIFICANT_RISK</td>\n",
              "    </tr>\n",
              "    <tr>\n",
              "      <th>398</th>\n",
              "      <td>17013</td>\n",
              "      <td>1682</td>\n",
              "      <td>37</td>\n",
              "      <td>SIGNIFICANT_RISK</td>\n",
              "    </tr>\n",
              "    <tr>\n",
              "      <th>399</th>\n",
              "      <td>14703</td>\n",
              "      <td>1285</td>\n",
              "      <td>45</td>\n",
              "      <td>SIGNIFICANT_RISK</td>\n",
              "    </tr>\n",
              "  </tbody>\n",
              "</table>\n",
              "<p>400 rows × 4 columns</p>\n",
              "</div>\n",
              "      <button class=\"colab-df-convert\" onclick=\"convertToInteractive('df-6042debe-3005-4085-bd56-4f9299c53409')\"\n",
              "              title=\"Convert this dataframe to an interactive table.\"\n",
              "              style=\"display:none;\">\n",
              "        \n",
              "  <svg xmlns=\"http://www.w3.org/2000/svg\" height=\"24px\"viewBox=\"0 0 24 24\"\n",
              "       width=\"24px\">\n",
              "    <path d=\"M0 0h24v24H0V0z\" fill=\"none\"/>\n",
              "    <path d=\"M18.56 5.44l.94 2.06.94-2.06 2.06-.94-2.06-.94-.94-2.06-.94 2.06-2.06.94zm-11 1L8.5 8.5l.94-2.06 2.06-.94-2.06-.94L8.5 2.5l-.94 2.06-2.06.94zm10 10l.94 2.06.94-2.06 2.06-.94-2.06-.94-.94-2.06-.94 2.06-2.06.94z\"/><path d=\"M17.41 7.96l-1.37-1.37c-.4-.4-.92-.59-1.43-.59-.52 0-1.04.2-1.43.59L10.3 9.45l-7.72 7.72c-.78.78-.78 2.05 0 2.83L4 21.41c.39.39.9.59 1.41.59.51 0 1.02-.2 1.41-.59l7.78-7.78 2.81-2.81c.8-.78.8-2.07 0-2.86zM5.41 20L4 18.59l7.72-7.72 1.47 1.35L5.41 20z\"/>\n",
              "  </svg>\n",
              "      </button>\n",
              "      \n",
              "  <style>\n",
              "    .colab-df-container {\n",
              "      display:flex;\n",
              "      flex-wrap:wrap;\n",
              "      gap: 12px;\n",
              "    }\n",
              "\n",
              "    .colab-df-convert {\n",
              "      background-color: #E8F0FE;\n",
              "      border: none;\n",
              "      border-radius: 50%;\n",
              "      cursor: pointer;\n",
              "      display: none;\n",
              "      fill: #1967D2;\n",
              "      height: 32px;\n",
              "      padding: 0 0 0 0;\n",
              "      width: 32px;\n",
              "    }\n",
              "\n",
              "    .colab-df-convert:hover {\n",
              "      background-color: #E2EBFA;\n",
              "      box-shadow: 0px 1px 2px rgba(60, 64, 67, 0.3), 0px 1px 3px 1px rgba(60, 64, 67, 0.15);\n",
              "      fill: #174EA6;\n",
              "    }\n",
              "\n",
              "    [theme=dark] .colab-df-convert {\n",
              "      background-color: #3B4455;\n",
              "      fill: #D2E3FC;\n",
              "    }\n",
              "\n",
              "    [theme=dark] .colab-df-convert:hover {\n",
              "      background-color: #434B5C;\n",
              "      box-shadow: 0px 1px 3px 1px rgba(0, 0, 0, 0.15);\n",
              "      filter: drop-shadow(0px 1px 2px rgba(0, 0, 0, 0.3));\n",
              "      fill: #FFFFFF;\n",
              "    }\n",
              "  </style>\n",
              "\n",
              "      <script>\n",
              "        const buttonEl =\n",
              "          document.querySelector('#df-6042debe-3005-4085-bd56-4f9299c53409 button.colab-df-convert');\n",
              "        buttonEl.style.display =\n",
              "          google.colab.kernel.accessAllowed ? 'block' : 'none';\n",
              "\n",
              "        async function convertToInteractive(key) {\n",
              "          const element = document.querySelector('#df-6042debe-3005-4085-bd56-4f9299c53409');\n",
              "          const dataTable =\n",
              "            await google.colab.kernel.invokeFunction('convertToInteractive',\n",
              "                                                     [key], {});\n",
              "          if (!dataTable) return;\n",
              "\n",
              "          const docLinkHtml = 'Like what you see? Visit the ' +\n",
              "            '<a target=\"_blank\" href=https://colab.research.google.com/notebooks/data_table.ipynb>data table notebook</a>'\n",
              "            + ' to learn more about interactive tables.';\n",
              "          element.innerHTML = '';\n",
              "          dataTable['output_type'] = 'display_data';\n",
              "          await google.colab.output.renderOutput(dataTable, element);\n",
              "          const docLink = document.createElement('div');\n",
              "          docLink.innerHTML = docLinkHtml;\n",
              "          element.appendChild(docLink);\n",
              "        }\n",
              "      </script>\n",
              "    </div>\n",
              "  </div>\n",
              "  "
            ],
            "text/plain": [
              "     LAB_TEST  CONFIRMED  DEATH      DENGER_LEVEL\n",
              "0         434          9      2          LOW_RISK\n",
              "1         367         18      1          LOW_RISK\n",
              "2         468         35      3          LOW_RISK\n",
              "3         679         41      5          LOW_RISK\n",
              "4         981         54      3          LOW_RISK\n",
              "..        ...        ...    ...               ...\n",
              "395     21984       1914     61  SIGNIFICANT_RISK\n",
              "396     20284       1742     50  SIGNIFICANT_RISK\n",
              "397     21585       1822     41  SIGNIFICANT_RISK\n",
              "398     17013       1682     37  SIGNIFICANT_RISK\n",
              "399     14703       1285     45  SIGNIFICANT_RISK\n",
              "\n",
              "[400 rows x 4 columns]"
            ]
          },
          "metadata": {},
          "execution_count": 73
        }
      ]
    },
    {
      "cell_type": "code",
      "source": [
        "x=df.iloc[:, 0:-1].values\n",
        "y=df.iloc[:, 3].values"
      ],
      "metadata": {
        "id": "virp1jIdrrOM"
      },
      "execution_count": null,
      "outputs": []
    },
    {
      "cell_type": "markdown",
      "source": [
        "**TRAIN TEST SPLIT**"
      ],
      "metadata": {
        "id": "PMGyiYfG-qvN"
      }
    },
    {
      "cell_type": "code",
      "source": [
        "x_train, x_test, y_train, y_test=train_test_split(x, y, test_size=0.25) #,random_state=10"
      ],
      "metadata": {
        "id": "kFcsZnCRr6Kw"
      },
      "execution_count": null,
      "outputs": []
    },
    {
      "cell_type": "markdown",
      "source": [
        "**GAUSSIAN NB**"
      ],
      "metadata": {
        "id": "MUDLdipc-uuN"
      }
    },
    {
      "cell_type": "code",
      "execution_count": null,
      "metadata": {
        "id": "KgYLvx9zRRCz",
        "outputId": "ca8c1472-536a-45f1-8b43-9879b043c399",
        "colab": {
          "base_uri": "https://localhost:8080/"
        }
      },
      "outputs": [
        {
          "output_type": "execute_result",
          "data": {
            "text/plain": [
              "array(['SIGNIFICANT_RISK', 'SIGNIFICANT_RISK', 'LOW_RISK', 'LOW_RISK',\n",
              "       'LOW_RISK', 'SIGNIFICANT_RISK', 'SIGNIFICANT_RISK', 'LOW_RISK',\n",
              "       'HIGH_RISK', 'LOW_RISK', 'LOW_RISK', 'SIGNIFICANT_RISK',\n",
              "       'SIGNIFICANT_RISK', 'SIGNIFICANT_RISK', 'LOW_RISK',\n",
              "       'SIGNIFICANT_RISK', 'SIGNIFICANT_RISK', 'HIGH_RISK', 'LOW_RISK',\n",
              "       'LOW_RISK', 'SIGNIFICANT_RISK', 'LOW_RISK', 'LOW_RISK',\n",
              "       'SIGNIFICANT_RISK', 'SIGNIFICANT_RISK', 'SIGNIFICANT_RISK',\n",
              "       'HIGH_RISK', 'LOW_RISK', 'SIGNIFICANT_RISK', 'SIGNIFICANT_RISK',\n",
              "       'SIGNIFICANT_RISK', 'LOW_RISK', 'SIGNIFICANT_RISK',\n",
              "       'SIGNIFICANT_RISK', 'HIGH_RISK', 'SIGNIFICANT_RISK', 'HIGH_RISK',\n",
              "       'LOW_RISK', 'SIGNIFICANT_RISK', 'LOW_RISK', 'HIGH_RISK',\n",
              "       'LOW_RISK', 'SIGNIFICANT_RISK', 'LOW_RISK', 'LOW_RISK',\n",
              "       'SIGNIFICANT_RISK', 'SIGNIFICANT_RISK', 'SIGNIFICANT_RISK',\n",
              "       'SIGNIFICANT_RISK', 'SIGNIFICANT_RISK', 'LOW_RISK', 'HIGH_RISK',\n",
              "       'SIGNIFICANT_RISK', 'SIGNIFICANT_RISK', 'SIGNIFICANT_RISK',\n",
              "       'HIGH_RISK', 'HIGH_RISK', 'SIGNIFICANT_RISK', 'LOW_RISK',\n",
              "       'LOW_RISK', 'HIGH_RISK', 'LOW_RISK', 'SIGNIFICANT_RISK',\n",
              "       'HIGH_RISK', 'HIGH_RISK', 'SIGNIFICANT_RISK', 'SIGNIFICANT_RISK',\n",
              "       'SIGNIFICANT_RISK', 'LOW_RISK', 'LOW_RISK', 'SIGNIFICANT_RISK',\n",
              "       'SIGNIFICANT_RISK', 'LOW_RISK', 'SIGNIFICANT_RISK', 'LOW_RISK',\n",
              "       'SIGNIFICANT_RISK', 'SIGNIFICANT_RISK', 'SIGNIFICANT_RISK',\n",
              "       'HIGH_RISK', 'LOW_RISK', 'SIGNIFICANT_RISK', 'SIGNIFICANT_RISK',\n",
              "       'SIGNIFICANT_RISK', 'SIGNIFICANT_RISK', 'LOW_RISK',\n",
              "       'SIGNIFICANT_RISK', 'SIGNIFICANT_RISK', 'SIGNIFICANT_RISK',\n",
              "       'SIGNIFICANT_RISK', 'LOW_RISK', 'SIGNIFICANT_RISK', 'LOW_RISK',\n",
              "       'HIGH_RISK', 'SIGNIFICANT_RISK', 'SIGNIFICANT_RISK', 'LOW_RISK',\n",
              "       'SIGNIFICANT_RISK', 'SIGNIFICANT_RISK', 'SIGNIFICANT_RISK',\n",
              "       'LOW_RISK', 'SIGNIFICANT_RISK', 'HIGH_RISK', 'SIGNIFICANT_RISK',\n",
              "       'SIGNIFICANT_RISK', 'SIGNIFICANT_RISK', 'SIGNIFICANT_RISK',\n",
              "       'SIGNIFICANT_RISK', 'HIGH_RISK', 'SIGNIFICANT_RISK',\n",
              "       'SIGNIFICANT_RISK', 'LOW_RISK', 'SIGNIFICANT_RISK', 'LOW_RISK',\n",
              "       'SIGNIFICANT_RISK', 'SIGNIFICANT_RISK', 'SIGNIFICANT_RISK',\n",
              "       'SIGNIFICANT_RISK', 'SIGNIFICANT_RISK', 'LOW_RISK',\n",
              "       'SIGNIFICANT_RISK', 'SIGNIFICANT_RISK', 'LOW_RISK', 'LOW_RISK',\n",
              "       'HIGH_RISK', 'SIGNIFICANT_RISK', 'SIGNIFICANT_RISK',\n",
              "       'SIGNIFICANT_RISK', 'LOW_RISK', 'LOW_RISK', 'HIGH_RISK',\n",
              "       'LOW_RISK', 'HIGH_RISK', 'SIGNIFICANT_RISK', 'SIGNIFICANT_RISK',\n",
              "       'SIGNIFICANT_RISK', 'SIGNIFICANT_RISK', 'SIGNIFICANT_RISK',\n",
              "       'SIGNIFICANT_RISK', 'SIGNIFICANT_RISK', 'SIGNIFICANT_RISK',\n",
              "       'SIGNIFICANT_RISK', 'SIGNIFICANT_RISK', 'SIGNIFICANT_RISK',\n",
              "       'LOW_RISK', 'HIGH_RISK', 'LOW_RISK', 'LOW_RISK',\n",
              "       'SIGNIFICANT_RISK', 'LOW_RISK', 'SIGNIFICANT_RISK',\n",
              "       'SIGNIFICANT_RISK', 'SIGNIFICANT_RISK', 'SIGNIFICANT_RISK',\n",
              "       'LOW_RISK', 'SIGNIFICANT_RISK', 'LOW_RISK', 'LOW_RISK'],\n",
              "      dtype='<U16')"
            ]
          },
          "metadata": {},
          "execution_count": 76
        }
      ],
      "source": [
        "G=GaussianNB()#Naive Bayes\n",
        "G.fit(x_train, y_train)\n",
        "G.predict(x_test)"
      ]
    },
    {
      "cell_type": "code",
      "execution_count": null,
      "metadata": {
        "id": "q7jD41yQRRC0",
        "outputId": "038f5791-69e1-44a1-b69c-7378b02673b4",
        "colab": {
          "base_uri": "https://localhost:8080/"
        }
      },
      "outputs": [
        {
          "output_type": "execute_result",
          "data": {
            "text/plain": [
              "94.26751592356688"
            ]
          },
          "metadata": {},
          "execution_count": 77
        }
      ],
      "source": [
        "G.score(x_test, y_test)*100 #Accurecy "
      ]
    },
    {
      "cell_type": "code",
      "execution_count": null,
      "metadata": {
        "id": "LY6FK7ihRRC0",
        "outputId": "1702f5b2-953a-4abf-8be3-7c03c293df54",
        "colab": {
          "base_uri": "https://localhost:8080/"
        }
      },
      "outputs": [
        {
          "output_type": "stream",
          "name": "stdout",
          "text": [
            "['LOW_RISK' 'HIGH_RISK' 'SIGNIFICANT_RISK']\n"
          ]
        }
      ],
      "source": [
        "example_measures = np.array([[10000,500,20],[20000,10000,100],[20000,1500,10]]) \n",
        "example_measures = example_measures.reshape(len(example_measures),-1)\n",
        "\n",
        "prediction = G.predict(example_measures)\n",
        "print(prediction)"
      ]
    },
    {
      "cell_type": "markdown",
      "source": [
        "**NEURAL NETWORK**"
      ],
      "metadata": {
        "id": "9YoVhVAz_E3m"
      }
    },
    {
      "cell_type": "code",
      "source": [
        "mlp = MLPClassifier(hidden_layer_sizes=(20,20,20), max_iter = 900, activation = 'relu')"
      ],
      "metadata": {
        "id": "TRXSrghv2sy7"
      },
      "execution_count": null,
      "outputs": []
    },
    {
      "cell_type": "code",
      "source": [
        "mlp = mlp.fit(x_train, y_train)\n",
        "y_pred = mlp.predict(x_test)\n",
        "score = accuracy_score(y_test, y_pred) * 100\n",
        "print(\"Accuracy using Neural Net: \", round(score, 1), \"%\" )"
      ],
      "metadata": {
        "colab": {
          "base_uri": "https://localhost:8080/"
        },
        "id": "EvyQNBt82_Vx",
        "outputId": "353fcc28-014a-4886-fd62-b1a4d9be8603"
      },
      "execution_count": null,
      "outputs": [
        {
          "output_type": "stream",
          "name": "stdout",
          "text": [
            "Accuracy using Neural Net:  81.5 %\n"
          ]
        }
      ]
    },
    {
      "cell_type": "code",
      "source": [
        "example_measures = np.array([[10000,500,20],[20000,10000,100],[20000,1500,10]])\n",
        "example_measures = example_measures.reshape(len(example_measures),-1)\n",
        "\n",
        "prediction = mlp.predict(example_measures)\n",
        "print(prediction)"
      ],
      "metadata": {
        "colab": {
          "base_uri": "https://localhost:8080/"
        },
        "id": "OHtFn8dp4peu",
        "outputId": "7ad23788-bab0-4469-859f-87b2d0f48994"
      },
      "execution_count": null,
      "outputs": [
        {
          "output_type": "stream",
          "name": "stdout",
          "text": [
            "['LOW_RISK' 'HIGH_RISK' 'SIGNIFICANT_RISK']\n"
          ]
        }
      ]
    },
    {
      "cell_type": "code",
      "source": [
        "y_pred = G.predict(x_test)\n",
        "pr = classification_report(y_test, y_pred)\n",
        "print(pr)\n",
        "\n",
        "\n",
        "y1_pred = mlp.predict(x_test)\n",
        "pr = classification_report(y_test, y1_pred)\n",
        "print(pr)"
      ],
      "metadata": {
        "colab": {
          "base_uri": "https://localhost:8080/"
        },
        "id": "8JLqy4PmiF-i",
        "outputId": "b1d49cb5-6607-4767-98ea-9703e45d0911"
      },
      "execution_count": null,
      "outputs": [
        {
          "output_type": "stream",
          "name": "stdout",
          "text": [
            "                  precision    recall  f1-score   support\n",
            "\n",
            "       HIGH_RISK       0.90      0.90      0.90        20\n",
            "        LOW_RISK       1.00      0.90      0.95        52\n",
            "SIGNIFICANT_RISK       0.92      0.98      0.95        85\n",
            "\n",
            "        accuracy                           0.94       157\n",
            "       macro avg       0.94      0.93      0.93       157\n",
            "    weighted avg       0.95      0.94      0.94       157\n",
            "\n",
            "                  precision    recall  f1-score   support\n",
            "\n",
            "       HIGH_RISK       0.92      0.60      0.73        20\n",
            "        LOW_RISK       0.94      0.65      0.77        52\n",
            "SIGNIFICANT_RISK       0.76      0.96      0.85        85\n",
            "\n",
            "        accuracy                           0.82       157\n",
            "       macro avg       0.88      0.74      0.78       157\n",
            "    weighted avg       0.84      0.82      0.81       157\n",
            "\n"
          ]
        }
      ]
    },
    {
      "cell_type": "markdown",
      "source": [
        "# ***Time Series Analysis***"
      ],
      "metadata": {
        "id": "hb1eYi-XPJNP"
      }
    },
    {
      "cell_type": "code",
      "source": [
        "dataset = '/content/covid_dataset.csv'\n",
        "df = pd.read_csv(dataset, parse_dates=[\"Day\"], index_col=\"Day\")\n",
        "df"
      ],
      "metadata": {
        "id": "EIeyDIlPPI3e",
        "colab": {
          "base_uri": "https://localhost:8080/",
          "height": 455
        },
        "outputId": "293e4e3e-a512-4a56-c480-d4e16e190cae"
      },
      "execution_count": null,
      "outputs": [
        {
          "output_type": "execute_result",
          "data": {
            "text/html": [
              "\n",
              "  <div id=\"df-4acf14e6-b0dc-4692-b9ad-e7ba8047067a\">\n",
              "    <div class=\"colab-df-container\">\n",
              "      <div>\n",
              "<style scoped>\n",
              "    .dataframe tbody tr th:only-of-type {\n",
              "        vertical-align: middle;\n",
              "    }\n",
              "\n",
              "    .dataframe tbody tr th {\n",
              "        vertical-align: top;\n",
              "    }\n",
              "\n",
              "    .dataframe thead th {\n",
              "        text-align: right;\n",
              "    }\n",
              "</style>\n",
              "<table border=\"1\" class=\"dataframe\">\n",
              "  <thead>\n",
              "    <tr style=\"text-align: right;\">\n",
              "      <th></th>\n",
              "      <th>Lab Test</th>\n",
              "      <th>Confirmed case</th>\n",
              "      <th>Death Case</th>\n",
              "    </tr>\n",
              "    <tr>\n",
              "      <th>Day</th>\n",
              "      <th></th>\n",
              "      <th></th>\n",
              "      <th></th>\n",
              "    </tr>\n",
              "  </thead>\n",
              "  <tbody>\n",
              "    <tr>\n",
              "      <th>2020-04-04</th>\n",
              "      <td>434</td>\n",
              "      <td>9</td>\n",
              "      <td>2</td>\n",
              "    </tr>\n",
              "    <tr>\n",
              "      <th>2020-04-05</th>\n",
              "      <td>367</td>\n",
              "      <td>18</td>\n",
              "      <td>1</td>\n",
              "    </tr>\n",
              "    <tr>\n",
              "      <th>2020-04-06</th>\n",
              "      <td>468</td>\n",
              "      <td>35</td>\n",
              "      <td>3</td>\n",
              "    </tr>\n",
              "    <tr>\n",
              "      <th>2020-04-07</th>\n",
              "      <td>679</td>\n",
              "      <td>41</td>\n",
              "      <td>5</td>\n",
              "    </tr>\n",
              "    <tr>\n",
              "      <th>2020-04-08</th>\n",
              "      <td>981</td>\n",
              "      <td>54</td>\n",
              "      <td>3</td>\n",
              "    </tr>\n",
              "    <tr>\n",
              "      <th>...</th>\n",
              "      <td>...</td>\n",
              "      <td>...</td>\n",
              "      <td>...</td>\n",
              "    </tr>\n",
              "    <tr>\n",
              "      <th>2021-12-16</th>\n",
              "      <td>25203</td>\n",
              "      <td>257</td>\n",
              "      <td>3</td>\n",
              "    </tr>\n",
              "    <tr>\n",
              "      <th>2021-12-17</th>\n",
              "      <td>16310</td>\n",
              "      <td>191</td>\n",
              "      <td>2</td>\n",
              "    </tr>\n",
              "    <tr>\n",
              "      <th>2021-12-18</th>\n",
              "      <td>13991</td>\n",
              "      <td>122</td>\n",
              "      <td>4</td>\n",
              "    </tr>\n",
              "    <tr>\n",
              "      <th>2021-12-19</th>\n",
              "      <td>19332</td>\n",
              "      <td>211</td>\n",
              "      <td>1</td>\n",
              "    </tr>\n",
              "    <tr>\n",
              "      <th>2021-12-20</th>\n",
              "      <td>19955</td>\n",
              "      <td>260</td>\n",
              "      <td>2</td>\n",
              "    </tr>\n",
              "  </tbody>\n",
              "</table>\n",
              "<p>626 rows × 3 columns</p>\n",
              "</div>\n",
              "      <button class=\"colab-df-convert\" onclick=\"convertToInteractive('df-4acf14e6-b0dc-4692-b9ad-e7ba8047067a')\"\n",
              "              title=\"Convert this dataframe to an interactive table.\"\n",
              "              style=\"display:none;\">\n",
              "        \n",
              "  <svg xmlns=\"http://www.w3.org/2000/svg\" height=\"24px\"viewBox=\"0 0 24 24\"\n",
              "       width=\"24px\">\n",
              "    <path d=\"M0 0h24v24H0V0z\" fill=\"none\"/>\n",
              "    <path d=\"M18.56 5.44l.94 2.06.94-2.06 2.06-.94-2.06-.94-.94-2.06-.94 2.06-2.06.94zm-11 1L8.5 8.5l.94-2.06 2.06-.94-2.06-.94L8.5 2.5l-.94 2.06-2.06.94zm10 10l.94 2.06.94-2.06 2.06-.94-2.06-.94-.94-2.06-.94 2.06-2.06.94z\"/><path d=\"M17.41 7.96l-1.37-1.37c-.4-.4-.92-.59-1.43-.59-.52 0-1.04.2-1.43.59L10.3 9.45l-7.72 7.72c-.78.78-.78 2.05 0 2.83L4 21.41c.39.39.9.59 1.41.59.51 0 1.02-.2 1.41-.59l7.78-7.78 2.81-2.81c.8-.78.8-2.07 0-2.86zM5.41 20L4 18.59l7.72-7.72 1.47 1.35L5.41 20z\"/>\n",
              "  </svg>\n",
              "      </button>\n",
              "      \n",
              "  <style>\n",
              "    .colab-df-container {\n",
              "      display:flex;\n",
              "      flex-wrap:wrap;\n",
              "      gap: 12px;\n",
              "    }\n",
              "\n",
              "    .colab-df-convert {\n",
              "      background-color: #E8F0FE;\n",
              "      border: none;\n",
              "      border-radius: 50%;\n",
              "      cursor: pointer;\n",
              "      display: none;\n",
              "      fill: #1967D2;\n",
              "      height: 32px;\n",
              "      padding: 0 0 0 0;\n",
              "      width: 32px;\n",
              "    }\n",
              "\n",
              "    .colab-df-convert:hover {\n",
              "      background-color: #E2EBFA;\n",
              "      box-shadow: 0px 1px 2px rgba(60, 64, 67, 0.3), 0px 1px 3px 1px rgba(60, 64, 67, 0.15);\n",
              "      fill: #174EA6;\n",
              "    }\n",
              "\n",
              "    [theme=dark] .colab-df-convert {\n",
              "      background-color: #3B4455;\n",
              "      fill: #D2E3FC;\n",
              "    }\n",
              "\n",
              "    [theme=dark] .colab-df-convert:hover {\n",
              "      background-color: #434B5C;\n",
              "      box-shadow: 0px 1px 3px 1px rgba(0, 0, 0, 0.15);\n",
              "      filter: drop-shadow(0px 1px 2px rgba(0, 0, 0, 0.3));\n",
              "      fill: #FFFFFF;\n",
              "    }\n",
              "  </style>\n",
              "\n",
              "      <script>\n",
              "        const buttonEl =\n",
              "          document.querySelector('#df-4acf14e6-b0dc-4692-b9ad-e7ba8047067a button.colab-df-convert');\n",
              "        buttonEl.style.display =\n",
              "          google.colab.kernel.accessAllowed ? 'block' : 'none';\n",
              "\n",
              "        async function convertToInteractive(key) {\n",
              "          const element = document.querySelector('#df-4acf14e6-b0dc-4692-b9ad-e7ba8047067a');\n",
              "          const dataTable =\n",
              "            await google.colab.kernel.invokeFunction('convertToInteractive',\n",
              "                                                     [key], {});\n",
              "          if (!dataTable) return;\n",
              "\n",
              "          const docLinkHtml = 'Like what you see? Visit the ' +\n",
              "            '<a target=\"_blank\" href=https://colab.research.google.com/notebooks/data_table.ipynb>data table notebook</a>'\n",
              "            + ' to learn more about interactive tables.';\n",
              "          element.innerHTML = '';\n",
              "          dataTable['output_type'] = 'display_data';\n",
              "          await google.colab.output.renderOutput(dataTable, element);\n",
              "          const docLink = document.createElement('div');\n",
              "          docLink.innerHTML = docLinkHtml;\n",
              "          element.appendChild(docLink);\n",
              "        }\n",
              "      </script>\n",
              "    </div>\n",
              "  </div>\n",
              "  "
            ],
            "text/plain": [
              "            Lab Test  Confirmed case  Death Case\n",
              "Day                                             \n",
              "2020-04-04       434               9           2\n",
              "2020-04-05       367              18           1\n",
              "2020-04-06       468              35           3\n",
              "2020-04-07       679              41           5\n",
              "2020-04-08       981              54           3\n",
              "...              ...             ...         ...\n",
              "2021-12-16     25203             257           3\n",
              "2021-12-17     16310             191           2\n",
              "2021-12-18     13991             122           4\n",
              "2021-12-19     19332             211           1\n",
              "2021-12-20     19955             260           2\n",
              "\n",
              "[626 rows x 3 columns]"
            ]
          },
          "metadata": {},
          "execution_count": 83
        }
      ]
    },
    {
      "cell_type": "code",
      "source": [
        "#df.index\n",
        "#df['2021-06-30']"
      ],
      "metadata": {
        "id": "KfM7B2GDPY6e"
      },
      "execution_count": null,
      "outputs": []
    },
    {
      "cell_type": "code",
      "source": [
        "df.index = pd.to_datetime(df.index)\n",
        "df = df.sort_index()\n",
        "df['2021-06'].head()"
      ],
      "metadata": {
        "id": "OkVpBBsZTqcN",
        "colab": {
          "base_uri": "https://localhost:8080/",
          "height": 238
        },
        "outputId": "d59059f6-3e01-4203-9c41-2745be860691"
      },
      "execution_count": null,
      "outputs": [
        {
          "output_type": "execute_result",
          "data": {
            "text/html": [
              "\n",
              "  <div id=\"df-05906efc-3322-41b4-8aee-18f67b304269\">\n",
              "    <div class=\"colab-df-container\">\n",
              "      <div>\n",
              "<style scoped>\n",
              "    .dataframe tbody tr th:only-of-type {\n",
              "        vertical-align: middle;\n",
              "    }\n",
              "\n",
              "    .dataframe tbody tr th {\n",
              "        vertical-align: top;\n",
              "    }\n",
              "\n",
              "    .dataframe thead th {\n",
              "        text-align: right;\n",
              "    }\n",
              "</style>\n",
              "<table border=\"1\" class=\"dataframe\">\n",
              "  <thead>\n",
              "    <tr style=\"text-align: right;\">\n",
              "      <th></th>\n",
              "      <th>Lab Test</th>\n",
              "      <th>Confirmed case</th>\n",
              "      <th>Death Case</th>\n",
              "    </tr>\n",
              "    <tr>\n",
              "      <th>Day</th>\n",
              "      <th></th>\n",
              "      <th></th>\n",
              "      <th></th>\n",
              "    </tr>\n",
              "  </thead>\n",
              "  <tbody>\n",
              "    <tr>\n",
              "      <th>2021-06-01</th>\n",
              "      <td>18250</td>\n",
              "      <td>1765</td>\n",
              "      <td>41</td>\n",
              "    </tr>\n",
              "    <tr>\n",
              "      <th>2021-06-02</th>\n",
              "      <td>20259</td>\n",
              "      <td>1988</td>\n",
              "      <td>34</td>\n",
              "    </tr>\n",
              "    <tr>\n",
              "      <th>2021-06-03</th>\n",
              "      <td>16972</td>\n",
              "      <td>1687</td>\n",
              "      <td>30</td>\n",
              "    </tr>\n",
              "    <tr>\n",
              "      <th>2021-06-04</th>\n",
              "      <td>18151</td>\n",
              "      <td>1887</td>\n",
              "      <td>34</td>\n",
              "    </tr>\n",
              "    <tr>\n",
              "      <th>2021-06-05</th>\n",
              "      <td>13115</td>\n",
              "      <td>1447</td>\n",
              "      <td>43</td>\n",
              "    </tr>\n",
              "  </tbody>\n",
              "</table>\n",
              "</div>\n",
              "      <button class=\"colab-df-convert\" onclick=\"convertToInteractive('df-05906efc-3322-41b4-8aee-18f67b304269')\"\n",
              "              title=\"Convert this dataframe to an interactive table.\"\n",
              "              style=\"display:none;\">\n",
              "        \n",
              "  <svg xmlns=\"http://www.w3.org/2000/svg\" height=\"24px\"viewBox=\"0 0 24 24\"\n",
              "       width=\"24px\">\n",
              "    <path d=\"M0 0h24v24H0V0z\" fill=\"none\"/>\n",
              "    <path d=\"M18.56 5.44l.94 2.06.94-2.06 2.06-.94-2.06-.94-.94-2.06-.94 2.06-2.06.94zm-11 1L8.5 8.5l.94-2.06 2.06-.94-2.06-.94L8.5 2.5l-.94 2.06-2.06.94zm10 10l.94 2.06.94-2.06 2.06-.94-2.06-.94-.94-2.06-.94 2.06-2.06.94z\"/><path d=\"M17.41 7.96l-1.37-1.37c-.4-.4-.92-.59-1.43-.59-.52 0-1.04.2-1.43.59L10.3 9.45l-7.72 7.72c-.78.78-.78 2.05 0 2.83L4 21.41c.39.39.9.59 1.41.59.51 0 1.02-.2 1.41-.59l7.78-7.78 2.81-2.81c.8-.78.8-2.07 0-2.86zM5.41 20L4 18.59l7.72-7.72 1.47 1.35L5.41 20z\"/>\n",
              "  </svg>\n",
              "      </button>\n",
              "      \n",
              "  <style>\n",
              "    .colab-df-container {\n",
              "      display:flex;\n",
              "      flex-wrap:wrap;\n",
              "      gap: 12px;\n",
              "    }\n",
              "\n",
              "    .colab-df-convert {\n",
              "      background-color: #E8F0FE;\n",
              "      border: none;\n",
              "      border-radius: 50%;\n",
              "      cursor: pointer;\n",
              "      display: none;\n",
              "      fill: #1967D2;\n",
              "      height: 32px;\n",
              "      padding: 0 0 0 0;\n",
              "      width: 32px;\n",
              "    }\n",
              "\n",
              "    .colab-df-convert:hover {\n",
              "      background-color: #E2EBFA;\n",
              "      box-shadow: 0px 1px 2px rgba(60, 64, 67, 0.3), 0px 1px 3px 1px rgba(60, 64, 67, 0.15);\n",
              "      fill: #174EA6;\n",
              "    }\n",
              "\n",
              "    [theme=dark] .colab-df-convert {\n",
              "      background-color: #3B4455;\n",
              "      fill: #D2E3FC;\n",
              "    }\n",
              "\n",
              "    [theme=dark] .colab-df-convert:hover {\n",
              "      background-color: #434B5C;\n",
              "      box-shadow: 0px 1px 3px 1px rgba(0, 0, 0, 0.15);\n",
              "      filter: drop-shadow(0px 1px 2px rgba(0, 0, 0, 0.3));\n",
              "      fill: #FFFFFF;\n",
              "    }\n",
              "  </style>\n",
              "\n",
              "      <script>\n",
              "        const buttonEl =\n",
              "          document.querySelector('#df-05906efc-3322-41b4-8aee-18f67b304269 button.colab-df-convert');\n",
              "        buttonEl.style.display =\n",
              "          google.colab.kernel.accessAllowed ? 'block' : 'none';\n",
              "\n",
              "        async function convertToInteractive(key) {\n",
              "          const element = document.querySelector('#df-05906efc-3322-41b4-8aee-18f67b304269');\n",
              "          const dataTable =\n",
              "            await google.colab.kernel.invokeFunction('convertToInteractive',\n",
              "                                                     [key], {});\n",
              "          if (!dataTable) return;\n",
              "\n",
              "          const docLinkHtml = 'Like what you see? Visit the ' +\n",
              "            '<a target=\"_blank\" href=https://colab.research.google.com/notebooks/data_table.ipynb>data table notebook</a>'\n",
              "            + ' to learn more about interactive tables.';\n",
              "          element.innerHTML = '';\n",
              "          dataTable['output_type'] = 'display_data';\n",
              "          await google.colab.output.renderOutput(dataTable, element);\n",
              "          const docLink = document.createElement('div');\n",
              "          docLink.innerHTML = docLinkHtml;\n",
              "          element.appendChild(docLink);\n",
              "        }\n",
              "      </script>\n",
              "    </div>\n",
              "  </div>\n",
              "  "
            ],
            "text/plain": [
              "            Lab Test  Confirmed case  Death Case\n",
              "Day                                             \n",
              "2021-06-01     18250            1765          41\n",
              "2021-06-02     20259            1988          34\n",
              "2021-06-03     16972            1687          30\n",
              "2021-06-04     18151            1887          34\n",
              "2021-06-05     13115            1447          43"
            ]
          },
          "metadata": {},
          "execution_count": 85
        }
      ]
    },
    {
      "cell_type": "code",
      "source": [
        "model_ARIMA = ARIMA(df['Death Case'].values, order=(1, 1, 1))\n",
        "#order = (p,d,q)\n",
        "#p = Number of lag observations in the model\n",
        "#d = Number of times that the raw observations are differenced\n",
        "#q = Size of the moving average window\n",
        "\n",
        "model_ARIMA = model_ARIMA.fit()"
      ],
      "metadata": {
        "id": "jXShW5nHTq4V"
      },
      "execution_count": null,
      "outputs": []
    },
    {
      "cell_type": "code",
      "source": [
        "prediction = model_ARIMA.predict(len(df),len(df)+10) #typ='levels'\n",
        "prediction"
      ],
      "metadata": {
        "id": "lR8bG5P9Twrd",
        "colab": {
          "base_uri": "https://localhost:8080/"
        },
        "outputId": "e0d20851-fea3-4936-8b44-200a1a0db05c"
      },
      "execution_count": null,
      "outputs": [
        {
          "output_type": "execute_result",
          "data": {
            "text/plain": [
              "array([1.81755578, 1.85154045, 1.84520998, 1.84638919, 1.84616953,\n",
              "       1.84621045, 1.84620283, 1.84620424, 1.84620398, 1.84620403,\n",
              "       1.84620402])"
            ]
          },
          "metadata": {},
          "execution_count": 87
        }
      ]
    },
    {
      "cell_type": "code",
      "source": [
        "#plot_acf(df['Death Case'])"
      ],
      "metadata": {
        "id": "X-vaRrY5T1zG"
      },
      "execution_count": null,
      "outputs": []
    },
    {
      "cell_type": "code",
      "source": [
        "#plot_pacf(df['Death Case'])"
      ],
      "metadata": {
        "id": "MrmluuT-T5K-"
      },
      "execution_count": null,
      "outputs": []
    }
  ],
  "metadata": {
    "kernelspec": {
      "display_name": "Python 3",
      "language": "python",
      "name": "python3"
    },
    "language_info": {
      "codemirror_mode": {
        "name": "ipython",
        "version": 3
      },
      "file_extension": ".py",
      "mimetype": "text/x-python",
      "name": "python",
      "nbconvert_exporter": "python",
      "pygments_lexer": "ipython3",
      "version": "3.7.6"
    },
    "colab": {
      "name": "CSE464.ipynb",
      "provenance": [],
      "collapsed_sections": []
    }
  },
  "nbformat": 4,
  "nbformat_minor": 0
}